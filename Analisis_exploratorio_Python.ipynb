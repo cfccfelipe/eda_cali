{
 "cells": [
  {
   "cell_type": "markdown",
   "metadata": {},
   "source": [
    "<h1 align=center> EDA viviendas Cali </h1>\n",
    "<h3 align=end> Carlos Felipe Cortés </h3>"
   ]
  },
  {
   "cell_type": "markdown",
   "metadata": {},
   "source": [
    "# Importando librerias y datos"
   ]
  },
  {
   "cell_type": "code",
   "execution_count": 1,
   "metadata": {},
   "outputs": [],
   "source": [
    "import pandas as pd\n",
    "import matplotlib.pyplot as plt\n",
    "import numpy as np\n",
    "import seaborn as sns"
   ]
  },
  {
   "cell_type": "code",
   "execution_count": 2,
   "metadata": {},
   "outputs": [],
   "source": [
    "data = pd.read_excel(\"Datos_Vivienda.xlsx\")"
   ]
  },
  {
   "cell_type": "markdown",
   "metadata": {},
   "source": [
    "<h2>Actividad 1</h2>"
   ]
  },
  {
   "cell_type": "markdown",
   "metadata": {},
   "source": [
    "<h4>1. Filtrar solo apartamentos, en un barrio de preferencia y tener en cuenta las variaciones que este puede\n",
    "presentar por ser un campo abierto</h4>"
   ]
  },
  {
   "cell_type": "markdown",
   "metadata": {},
   "source": [
    "Importando base de datos con nombre barrios y estratos"
   ]
  },
  {
   "cell_type": "code",
   "execution_count": 3,
   "metadata": {},
   "outputs": [],
   "source": [
    "barrios = pd.read_csv(\"Estratos_Barrios_Cali.csv\")\n",
    "barrios = pd.DataFrame(barrios[[\"Barrio\",\"Estrato moda\"]])"
   ]
  },
  {
   "cell_type": "markdown",
   "metadata": {},
   "source": [
    "Estandarizando strings"
   ]
  },
  {
   "cell_type": "code",
   "execution_count": 4,
   "metadata": {},
   "outputs": [
    {
     "name": "stderr",
     "output_type": "stream",
     "text": [
      "<ipython-input-4-02b75419cc42>:9: FutureWarning: The default value of regex will change from True to False in a future version. In addition, single character regular expressions will *not* be treated as literal strings when regex=True.\n",
      "  barrios[\"Barrio\"] = barrios[\"Barrio\"].str.replace(\".\", \"\")\n"
     ]
    }
   ],
   "source": [
    "barrios[\"Barrio\"] = barrios[\"Barrio\"].str.lower()\n",
    "acentos = {'á': 'a', 'é': 'e', 'í': 'i', 'ó': 'o', 'ú': 'u'}\n",
    "for acen in acentos:\n",
    "    barrios[\"Barrio\"] = barrios[\"Barrio\"].str.replace(acen, acentos[acen])\n",
    "articulos = ['la', 'las', \"el\", \"los\"]\n",
    "for ar in articulos:\n",
    "    barrios[\"Barrio\"] = barrios[\"Barrio\"].str.replace(f'{ar}\\s', \"\", regex=True)\n",
    "barrios[\"Barrio\"] = barrios[\"Barrio\"].str.replace(\" \", \"\")\n",
    "barrios[\"Barrio\"] = barrios[\"Barrio\"].str.replace(\".\", \"\")\n",
    "barrios[\"Barrio\"] = barrios[\"Barrio\"].str.replace(\",\", \"\")\n",
    "barrios[\"Barrio\"] = barrios[\"Barrio\"].str.replace(\"ciudad\", \"\")\n"
   ]
  },
  {
   "cell_type": "markdown",
   "metadata": {},
   "source": [
    "Aplicando mismas reglas en data"
   ]
  },
  {
   "cell_type": "code",
   "execution_count": 5,
   "metadata": {},
   "outputs": [
    {
     "name": "stderr",
     "output_type": "stream",
     "text": [
      "<ipython-input-5-5c34e4638a4c>:7: FutureWarning: The default value of regex will change from True to False in a future version. In addition, single character regular expressions will *not* be treated as literal strings when regex=True.\n",
      "  data[\"Barrio\"] = data[\"Barrio\"].str.replace(\".\", \"\")\n"
     ]
    }
   ],
   "source": [
    "data[\"Barrio\"] = data[\"Barrio\"].str.lower()\n",
    "for acen in acentos:\n",
    "    data[\"Barrio\"] = data[\"Barrio\"].str.replace(acen, acentos[acen])\n",
    "for ar in articulos:\n",
    "    data[\"Barrio\"] = data[\"Barrio\"].str.replace(f'{ar}\\s', \"\", regex=True)\n",
    "data[\"Barrio\"] = data[\"Barrio\"].str.replace(\" \", \"\")\n",
    "data[\"Barrio\"] = data[\"Barrio\"].str.replace(\".\", \"\")\n",
    "data[\"Barrio\"] = data[\"Barrio\"].str.replace(\",\", \"\")\n",
    "data[\"Barrio\"] = data[\"Barrio\"].str.replace(\"ciudad\", \"\")"
   ]
  },
  {
   "cell_type": "markdown",
   "metadata": {},
   "source": [
    "Buscando estandarizar excesos de palabras"
   ]
  },
  {
   "cell_type": "code",
   "execution_count": 6,
   "metadata": {},
   "outputs": [],
   "source": [
    "for i in barrios[\"Barrio\"]:\n",
    "    data[\"Barrio\"].replace(regex=[f'.*({i}).*'], value=f'{i}', inplace=True)"
   ]
  },
  {
   "cell_type": "markdown",
   "metadata": {},
   "source": [
    "Revisando los valores que no se encontraban en el dataset barrios"
   ]
  },
  {
   "cell_type": "code",
   "execution_count": 7,
   "metadata": {},
   "outputs": [],
   "source": [
    "noin= []\n",
    "for i in data[\"Barrio\"].unique():\n",
    "    if i in barrios[\"Barrio\"].unique():\n",
    "        pass\n",
    "    else:\n",
    "        noin.append(i)"
   ]
  },
  {
   "cell_type": "markdown",
   "metadata": {},
   "source": [
    "Aún se debe identificar barrios 129 que equivale a 2778 registros"
   ]
  },
  {
   "cell_type": "code",
   "execution_count": 8,
   "metadata": {},
   "outputs": [
    {
     "data": {
      "text/plain": [
       "121"
      ]
     },
     "execution_count": 8,
     "metadata": {},
     "output_type": "execute_result"
    }
   ],
   "source": [
    "len(noin)"
   ]
  },
  {
   "cell_type": "code",
   "execution_count": 9,
   "metadata": {},
   "outputs": [],
   "source": [
    "count = 0\n",
    "for i in noin:\n",
    "    x = data[\"Barrio\"].astype(str).str.contains(i, regex=False, na=\"0\").sum()\n",
    "    if int(x) > 0:\n",
    "        count += int(x)\n",
    "    "
   ]
  },
  {
   "cell_type": "code",
   "execution_count": 10,
   "metadata": {},
   "outputs": [
    {
     "name": "stdout",
     "output_type": "stream",
     "text": [
      "2651\n"
     ]
    }
   ],
   "source": [
    "print(count)"
   ]
  },
  {
   "cell_type": "markdown",
   "metadata": {},
   "source": [
    "Barrio seleccionado \"miraflores\", verificando que solo exista 1 valor unico y mostrando 5 primeros registros de la respuesta"
   ]
  },
  {
   "cell_type": "code",
   "execution_count": 11,
   "metadata": {},
   "outputs": [],
   "source": [
    "respuesta1= data.loc[data[\"Tipo\"]==\"Apartamento\"].loc[data[\"Barrio\"]==\"pance\"]"
   ]
  },
  {
   "cell_type": "code",
   "execution_count": 12,
   "metadata": {},
   "outputs": [
    {
     "data": {
      "text/plain": [
       "array(['pance'], dtype=object)"
      ]
     },
     "execution_count": 12,
     "metadata": {},
     "output_type": "execute_result"
    }
   ],
   "source": [
    "data[data[\"Barrio\"].astype(str).str.contains(\"pance\", regex=False, na=\"na\")][\"Barrio\"].unique()"
   ]
  },
  {
   "cell_type": "code",
   "execution_count": 13,
   "metadata": {},
   "outputs": [
    {
     "data": {
      "text/html": [
       "<div>\n",
       "<style scoped>\n",
       "    .dataframe tbody tr th:only-of-type {\n",
       "        vertical-align: middle;\n",
       "    }\n",
       "\n",
       "    .dataframe tbody tr th {\n",
       "        vertical-align: top;\n",
       "    }\n",
       "\n",
       "    .dataframe thead th {\n",
       "        text-align: right;\n",
       "    }\n",
       "</style>\n",
       "<table border=\"1\" class=\"dataframe\">\n",
       "  <thead>\n",
       "    <tr style=\"text-align: right;\">\n",
       "      <th></th>\n",
       "      <th>Zona</th>\n",
       "      <th>piso</th>\n",
       "      <th>Estrato</th>\n",
       "      <th>precio_millon</th>\n",
       "      <th>Area_contruida</th>\n",
       "      <th>parqueaderos</th>\n",
       "      <th>Banos</th>\n",
       "      <th>Habitaciones</th>\n",
       "      <th>Tipo</th>\n",
       "      <th>Barrio</th>\n",
       "      <th>cordenada_longitud</th>\n",
       "      <th>Cordenada_latitud</th>\n",
       "    </tr>\n",
       "  </thead>\n",
       "  <tbody>\n",
       "    <tr>\n",
       "      <th>9</th>\n",
       "      <td>Zona Sur</td>\n",
       "      <td>6.0</td>\n",
       "      <td>6.0</td>\n",
       "      <td>690.0</td>\n",
       "      <td>150.0</td>\n",
       "      <td>2.0</td>\n",
       "      <td>5.0</td>\n",
       "      <td>4.0</td>\n",
       "      <td>Apartamento</td>\n",
       "      <td>pance</td>\n",
       "      <td>-76.46478</td>\n",
       "      <td>3.42783</td>\n",
       "    </tr>\n",
       "    <tr>\n",
       "      <th>18</th>\n",
       "      <td>Zona Sur</td>\n",
       "      <td>3.0</td>\n",
       "      <td>6.0</td>\n",
       "      <td>550.0</td>\n",
       "      <td>136.0</td>\n",
       "      <td>2.0</td>\n",
       "      <td>4.0</td>\n",
       "      <td>4.0</td>\n",
       "      <td>Apartamento</td>\n",
       "      <td>pance</td>\n",
       "      <td>-76.46554</td>\n",
       "      <td>3.42933</td>\n",
       "    </tr>\n",
       "    <tr>\n",
       "      <th>33</th>\n",
       "      <td>Zona Sur</td>\n",
       "      <td>NaN</td>\n",
       "      <td>6.0</td>\n",
       "      <td>480.0</td>\n",
       "      <td>94.0</td>\n",
       "      <td>2.0</td>\n",
       "      <td>2.0</td>\n",
       "      <td>2.0</td>\n",
       "      <td>Apartamento</td>\n",
       "      <td>pance</td>\n",
       "      <td>-76.46809</td>\n",
       "      <td>3.41664</td>\n",
       "    </tr>\n",
       "    <tr>\n",
       "      <th>34</th>\n",
       "      <td>Zona Sur</td>\n",
       "      <td>NaN</td>\n",
       "      <td>6.0</td>\n",
       "      <td>570.0</td>\n",
       "      <td>137.0</td>\n",
       "      <td>2.0</td>\n",
       "      <td>5.0</td>\n",
       "      <td>4.0</td>\n",
       "      <td>Apartamento</td>\n",
       "      <td>pance</td>\n",
       "      <td>-76.46851</td>\n",
       "      <td>3.42544</td>\n",
       "    </tr>\n",
       "    <tr>\n",
       "      <th>38</th>\n",
       "      <td>Zona Sur</td>\n",
       "      <td>4.0</td>\n",
       "      <td>6.0</td>\n",
       "      <td>510.0</td>\n",
       "      <td>148.0</td>\n",
       "      <td>2.0</td>\n",
       "      <td>3.0</td>\n",
       "      <td>3.0</td>\n",
       "      <td>Apartamento</td>\n",
       "      <td>pance</td>\n",
       "      <td>-76.46947</td>\n",
       "      <td>3.42527</td>\n",
       "    </tr>\n",
       "  </tbody>\n",
       "</table>\n",
       "</div>"
      ],
      "text/plain": [
       "        Zona  piso  Estrato  precio_millon  Area_contruida  parqueaderos  \\\n",
       "9   Zona Sur   6.0      6.0          690.0           150.0           2.0   \n",
       "18  Zona Sur   3.0      6.0          550.0           136.0           2.0   \n",
       "33  Zona Sur   NaN      6.0          480.0            94.0           2.0   \n",
       "34  Zona Sur   NaN      6.0          570.0           137.0           2.0   \n",
       "38  Zona Sur   4.0      6.0          510.0           148.0           2.0   \n",
       "\n",
       "    Banos  Habitaciones         Tipo Barrio  cordenada_longitud  \\\n",
       "9     5.0           4.0  Apartamento  pance           -76.46478   \n",
       "18    4.0           4.0  Apartamento  pance           -76.46554   \n",
       "33    2.0           2.0  Apartamento  pance           -76.46809   \n",
       "34    5.0           4.0  Apartamento  pance           -76.46851   \n",
       "38    3.0           3.0  Apartamento  pance           -76.46947   \n",
       "\n",
       "    Cordenada_latitud  \n",
       "9             3.42783  \n",
       "18            3.42933  \n",
       "33            3.41664  \n",
       "34            3.42544  \n",
       "38            3.42527  "
      ]
     },
     "execution_count": 13,
     "metadata": {},
     "output_type": "execute_result"
    }
   ],
   "source": [
    "respuesta1.head()"
   ]
  },
  {
   "cell_type": "markdown",
   "metadata": {},
   "source": [
    "<h4>2.Presentar una exploración inicial de los datos, ejemplo: conteo de cuantos registros quedaron, preciopromedio , area promedio entre otros (aprox unos 5 datos clave).</h4>"
   ]
  },
  {
   "cell_type": "code",
   "execution_count": 14,
   "metadata": {},
   "outputs": [],
   "source": [
    "exploracion = pd.DataFrame(data[[\"precio_millon\",\"Area_contruida\"]].describe())\n",
    "exploracion.loc[\"median\"] = (data[\"precio_millon\"].median(), data[\"Area_contruida\"].median())"
   ]
  },
  {
   "cell_type": "code",
   "execution_count": 15,
   "metadata": {},
   "outputs": [
    {
     "data": {
      "text/html": [
       "<div>\n",
       "<style scoped>\n",
       "    .dataframe tbody tr th:only-of-type {\n",
       "        vertical-align: middle;\n",
       "    }\n",
       "\n",
       "    .dataframe tbody tr th {\n",
       "        vertical-align: top;\n",
       "    }\n",
       "\n",
       "    .dataframe thead th {\n",
       "        text-align: right;\n",
       "    }\n",
       "</style>\n",
       "<table border=\"1\" class=\"dataframe\">\n",
       "  <thead>\n",
       "    <tr style=\"text-align: right;\">\n",
       "      <th></th>\n",
       "      <th>precio_millon</th>\n",
       "      <th>Area_contruida</th>\n",
       "    </tr>\n",
       "  </thead>\n",
       "  <tbody>\n",
       "    <tr>\n",
       "      <th>count</th>\n",
       "      <td>8320.000000</td>\n",
       "      <td>8319.000000</td>\n",
       "    </tr>\n",
       "    <tr>\n",
       "      <th>mean</th>\n",
       "      <td>433.891947</td>\n",
       "      <td>174.934938</td>\n",
       "    </tr>\n",
       "    <tr>\n",
       "      <th>std</th>\n",
       "      <td>328.647244</td>\n",
       "      <td>142.964126</td>\n",
       "    </tr>\n",
       "    <tr>\n",
       "      <th>min</th>\n",
       "      <td>58.000000</td>\n",
       "      <td>30.000000</td>\n",
       "    </tr>\n",
       "    <tr>\n",
       "      <th>25%</th>\n",
       "      <td>220.000000</td>\n",
       "      <td>80.000000</td>\n",
       "    </tr>\n",
       "    <tr>\n",
       "      <th>50%</th>\n",
       "      <td>330.000000</td>\n",
       "      <td>123.000000</td>\n",
       "    </tr>\n",
       "    <tr>\n",
       "      <th>75%</th>\n",
       "      <td>540.000000</td>\n",
       "      <td>229.000000</td>\n",
       "    </tr>\n",
       "    <tr>\n",
       "      <th>max</th>\n",
       "      <td>1999.000000</td>\n",
       "      <td>1745.000000</td>\n",
       "    </tr>\n",
       "    <tr>\n",
       "      <th>median</th>\n",
       "      <td>330.000000</td>\n",
       "      <td>123.000000</td>\n",
       "    </tr>\n",
       "  </tbody>\n",
       "</table>\n",
       "</div>"
      ],
      "text/plain": [
       "        precio_millon  Area_contruida\n",
       "count     8320.000000     8319.000000\n",
       "mean       433.891947      174.934938\n",
       "std        328.647244      142.964126\n",
       "min         58.000000       30.000000\n",
       "25%        220.000000       80.000000\n",
       "50%        330.000000      123.000000\n",
       "75%        540.000000      229.000000\n",
       "max       1999.000000     1745.000000\n",
       "median     330.000000      123.000000"
      ]
     },
     "execution_count": 15,
     "metadata": {},
     "output_type": "execute_result"
    }
   ],
   "source": [
    "exploracion"
   ]
  },
  {
   "cell_type": "markdown",
   "metadata": {},
   "source": [
    "<h4>3.Presentar en un mapa interactivo los resultados de las viviendas y discutir un poco sobre posibles errores en la geocodificación dado que el campo es abierto </h4>"
   ]
  },
  {
   "cell_type": "code",
   "execution_count": 16,
   "metadata": {},
   "outputs": [],
   "source": [
    "from ipyleaflet import Map, basemaps, basemap_to_tiles, Marker, MarkerCluster, SearchControl\n",
    "from ipywidgets import Layout"
   ]
  },
  {
   "cell_type": "markdown",
   "metadata": {},
   "source": [
    "Eliminando nulos"
   ]
  },
  {
   "cell_type": "code",
   "execution_count": 17,
   "metadata": {},
   "outputs": [],
   "source": [
    "drop = data.loc[data[\"cordenada_longitud\"].isna()].index\n",
    "data.drop(drop, axis=0, inplace=True)\n",
    "points = data[[\"Cordenada_latitud\",\"cordenada_longitud\"]]"
   ]
  },
  {
   "cell_type": "markdown",
   "metadata": {},
   "source": [
    "Creando mapa base"
   ]
  },
  {
   "cell_type": "code",
   "execution_count": 18,
   "metadata": {
    "scrolled": true
   },
   "outputs": [],
   "source": [
    "ciudad_los_alamos = (3.48700, -76.50700)\n",
    "m = Map(\n",
    "    basemap=basemap_to_tiles(basemaps.OpenStreetMap.Mapnik),\n",
    "    center=ciudad_los_alamos,\n",
    "    zoom=16,\n",
    "    layout=Layout(width='80%', height='500px')\n",
    ")\n",
    "m.add_control(SearchControl(\n",
    "  position=\"topleft\",\n",
    "  url='https://nominatim.openstreetmap.org/search?format=json&q={s}',\n",
    "  zoom=5\n",
    "))"
   ]
  },
  {
   "cell_type": "markdown",
   "metadata": {},
   "source": [
    "Adicionando marcas -> si damos zoom podemos ver más detenidamente cada barrio"
   ]
  },
  {
   "cell_type": "code",
   "execution_count": 19,
   "metadata": {},
   "outputs": [
    {
     "data": {
      "application/vnd.jupyter.widget-view+json": {
       "model_id": "fe606ff842414256a76e183b848d31be",
       "version_major": 2,
       "version_minor": 0
      },
      "text/plain": [
       "Map(center=[3.487, -76.507], controls=(ZoomControl(options=['position', 'zoom_in_text', 'zoom_in_title', 'zoom…"
      ]
     },
     "metadata": {},
     "output_type": "display_data"
    }
   ],
   "source": [
    "m.add_layer(MarkerCluster(\n",
    " markers=[Marker(location=(points[\"Cordenada_latitud\"][point], points[\"cordenada_longitud\"][point])) \n",
    "          for point in range(len(points))]))\n",
    "\n",
    "m"
   ]
  },
  {
   "cell_type": "markdown",
   "metadata": {},
   "source": [
    "Se explora los resultados obtenids para Ciudad Los Alamos, para eso tomamos la cantidad de registros del dataset en este barrio"
   ]
  },
  {
   "cell_type": "code",
   "execution_count": 20,
   "metadata": {},
   "outputs": [],
   "source": [
    "alamos= data.loc[data[\"Barrio\"] ==\"alamos\"]"
   ]
  },
  {
   "cell_type": "code",
   "execution_count": 21,
   "metadata": {},
   "outputs": [
    {
     "data": {
      "text/plain": [
       "41"
      ]
     },
     "execution_count": 21,
     "metadata": {},
     "output_type": "execute_result"
    }
   ],
   "source": [
    "len(alamos.index)"
   ]
  },
  {
   "cell_type": "markdown",
   "metadata": {},
   "source": [
    "Se procede a sumar los conteos dentro del barrio los alamos 6+2+7+16+8 = 39, mientras los registros muestran que hay 41"
   ]
  },
  {
   "cell_type": "markdown",
   "metadata": {},
   "source": [
    "Al tener esta diferencia inicial se propone hacer un mapa solo con la información de barrio los alamos"
   ]
  },
  {
   "cell_type": "code",
   "execution_count": 22,
   "metadata": {},
   "outputs": [],
   "source": [
    "alamos = alamos[[\"Cordenada_latitud\", \"cordenada_longitud\"]].reset_index()\n",
    "ciudad_los_alamos = (3.48700, -76.50700)\n",
    "a = Map(\n",
    "    basemap=basemap_to_tiles(basemaps.OpenStreetMap.Mapnik),\n",
    "    center=ciudad_los_alamos,\n",
    "    zoom=12,\n",
    "    layout=Layout(width='80%', height='500px')\n",
    ")\n",
    "a.add_control(SearchControl(\n",
    "  position=\"topleft\",\n",
    "  url='https://nominatim.openstreetmap.org/search?format=json&q={s}',\n",
    "  zoom=5\n",
    "))"
   ]
  },
  {
   "cell_type": "code",
   "execution_count": 23,
   "metadata": {},
   "outputs": [],
   "source": [
    "alamos.drop(\"index\",axis=1, inplace=True)"
   ]
  },
  {
   "cell_type": "code",
   "execution_count": 24,
   "metadata": {},
   "outputs": [
    {
     "data": {
      "application/vnd.jupyter.widget-view+json": {
       "model_id": "5830bcb25ad7493193da3d55013ebcd0",
       "version_major": 2,
       "version_minor": 0
      },
      "text/plain": [
       "Map(center=[3.487, -76.507], controls=(ZoomControl(options=['position', 'zoom_in_text', 'zoom_in_title', 'zoom…"
      ]
     },
     "metadata": {},
     "output_type": "display_data"
    }
   ],
   "source": [
    "a.add_layer(MarkerCluster(\n",
    " markers=[Marker(location=(alamos[\"Cordenada_latitud\"][ala], alamos[\"cordenada_longitud\"][ala])) \n",
    "          for ala in range(len(alamos))]))\n",
    "\n",
    "a"
   ]
  },
  {
   "cell_type": "markdown",
   "metadata": {},
   "source": [
    "<p>Se evidencia:</p>\n",
    "<p>1) La mayoría de los datos se encuentran en la ubicación correcta y todos los datos estan en la ciudad de Calí</p>\n",
    "<p>2) Existen algunas ubicaciones en el que el registro informa que pertenecen al barrio Ciudad Los Alamos pero estan en otros barrios en barrios</p>\n",
    "<p>3) Existen registros ubicados en el barrio Ciudad Los Alamos y no se reportan dentro del filtro</p>"
   ]
  },
  {
   "cell_type": "markdown",
   "metadata": {},
   "source": [
    "<h4>4. Realizar una exploración bivariada entre el precio de la vivienda y el area por un grafico de puntos conuna linea de tendencia interactiva usando ggplot2 y plotly.</h4>"
   ]
  },
  {
   "cell_type": "code",
   "execution_count": 46,
   "metadata": {},
   "outputs": [],
   "source": [
    "import plotnine\n",
    "from plotnine import ggplot, aes, geom_point, geom_smooth\n",
    "from plotly.tools import mpl_to_plotly as ggplotly"
   ]
  },
  {
   "cell_type": "code",
   "execution_count": 51,
   "metadata": {},
   "outputs": [
    {
     "data": {
      "image/png": "[encoded data removed]",
      "text/plain": [
       "<Figure size 640x480 with 1 Axes>"
      ]
     },
     "metadata": {},
     "output_type": "display_data"
    },
    {
     "data": {
      "text/plain": [
       "<ggplot: (132249727732)>"
      ]
     },
     "execution_count": 51,
     "metadata": {},
     "output_type": "execute_result"
    }
   ],
   "source": [
    "g1=ggplot(data = data) + aes(y=data[\"precio_millon\"],x=data[\"Area_contruida\"]) + geom_point() + geom_smooth()\n",
    "g1"
   ]
  },
  {
   "cell_type": "code",
   "execution_count": 50,
   "metadata": {},
   "outputs": [
    {
     "data": {
      "image/png": "[encoded data removed]",
      "text/plain": [
       "<Figure size 640x480 with 1 Axes>"
      ]
     },
     "metadata": {},
     "output_type": "display_data"
    },
    {
     "data": {
      "text/plain": [
       "<ggplot: (132248321711)>"
      ]
     },
     "execution_count": 50,
     "metadata": {},
     "output_type": "execute_result"
    }
   ],
   "source": [
    "data2 =data.loc[data[\"Area_contruida\"]<400]\n",
    "\n",
    "g2=ggplot(data = data2) + aes(y=data2[\"precio_millon\"],x=data2[\"Area_contruida\"]) + geom_point() + geom_smooth()\n",
    "g2"
   ]
  },
  {
   "cell_type": "markdown",
   "metadata": {},
   "source": [
    "# Parseando y limpiando data"
   ]
  },
  {
   "cell_type": "markdown",
   "metadata": {},
   "source": [
    "Reduciendo dimension precios"
   ]
  },
  {
   "cell_type": "code",
   "execution_count": null,
   "metadata": {},
   "outputs": [],
   "source": [
    "data[\"precio(millonespesos)\"] = data[\"Precio\"]/1000000"
   ]
  },
  {
   "cell_type": "markdown",
   "metadata": {},
   "source": [
    "Eliminando filas no necesarias"
   ]
  },
  {
   "cell_type": "code",
   "execution_count": null,
   "metadata": {},
   "outputs": [],
   "source": [
    "data.drop([\"ID\",\"URL\",\"ciudad\",\"Cordenada_latitud\", \"cordenada_longitud\", \"Precio\"], inplace=True, axis=1)"
   ]
  },
  {
   "cell_type": "markdown",
   "metadata": {},
   "source": []
  },
  {
   "cell_type": "markdown",
   "metadata": {},
   "source": [
    "Usando barrio para definir el estrato para valores nulos"
   ]
  },
  {
   "cell_type": "code",
   "execution_count": null,
   "metadata": {},
   "outputs": [],
   "source": [
    "est_null = data.loc[data[\"Estrato\"].isna()]\n",
    "est_replace = est_null[\"Barrio\"].unique()"
   ]
  },
  {
   "cell_type": "code",
   "execution_count": null,
   "metadata": {},
   "outputs": [],
   "source": [
    "for i in est_replace:\n",
    "    estrato = data.loc[data[\"Barrio\"] == i][\"Estrato\"].iloc[0]\n",
    "    if str(estrato).isnumeric():\n",
    "        pass\n",
    "    else:\n",
    "        estrato = 3\n",
    "    toreplace = data.loc[data[\"Barrio\"] == i]\n",
    "    finalreplace = toreplace[\"Estrato\"].astype(str).str.replace('nan', str(estrato))\n",
    "    data[\"Estrato\"].fillna(finalreplace, inplace=True)"
   ]
  },
  {
   "cell_type": "code",
   "execution_count": null,
   "metadata": {},
   "outputs": [],
   "source": [
    "data[\"Estrato\"] = data[\"Estrato\"].astype('str')\n",
    "data[\"Estrato\"] = data[\"Estrato\"].str.replace('Campestre', '6')"
   ]
  },
  {
   "cell_type": "code",
   "execution_count": null,
   "metadata": {},
   "outputs": [],
   "source": [
    "data[\"Estrato\"] = data[\"Estrato\"].astype('int')"
   ]
  },
  {
   "cell_type": "markdown",
   "metadata": {},
   "source": [
    "Usando barrio para definir los valores vacios de zona"
   ]
  },
  {
   "cell_type": "code",
   "execution_count": null,
   "metadata": {},
   "outputs": [],
   "source": [
    "zon_null = data.loc[data[\"Zona\"].isna()]\n",
    "zon_replace = zon_null[\"Barrio\"].unique()"
   ]
  },
  {
   "cell_type": "code",
   "execution_count": null,
   "metadata": {},
   "outputs": [],
   "source": [
    "for i in zon_replace:\n",
    "    zona = data.loc[data[\"Barrio\"] == i][\"Zona\"].iloc[0]\n",
    "    if type(zona) == str:\n",
    "        pass\n",
    "    else:\n",
    "        zona = \"Zona Centro\"\n",
    "    toreplace = data.loc[data[\"Barrio\"] == i]\n",
    "    finalreplace = toreplace[\"Zona\"].astype(str).str.replace('nan', zona)\n",
    "    data[\"Zona\"].fillna(finalreplace, inplace=True)\n"
   ]
  },
  {
   "cell_type": "markdown",
   "metadata": {},
   "source": [
    "Existe un error en el tipo en area construida y area privada también pero no se toma en cuenta por sus valores atipicos frecuentes"
   ]
  },
  {
   "cell_type": "code",
   "execution_count": null,
   "metadata": {},
   "outputs": [],
   "source": [
    "todrop = data.loc[data[\"Area_contruida\"] ==\"-\"]\n",
    "data.drop(todrop.index, inplace=True, axis=0)"
   ]
  },
  {
   "cell_type": "code",
   "execution_count": null,
   "metadata": {},
   "outputs": [],
   "source": [
    "data[\"Area_construida\"] = data[\"Area_contruida\"].astype('str')"
   ]
  },
  {
   "cell_type": "code",
   "execution_count": null,
   "metadata": {},
   "outputs": [],
   "source": [
    "todrop = data.loc[data[\"Area_construida\"] ==\"57,40 a 60,50 \"]\n",
    "data.drop(todrop.index, inplace=True, axis=0)"
   ]
  },
  {
   "cell_type": "code",
   "execution_count": null,
   "metadata": {},
   "outputs": [],
   "source": [
    "data[\"Area_construida\"] = data[\"Area_construida\"].astype(\"float\")"
   ]
  },
  {
   "cell_type": "code",
   "execution_count": null,
   "metadata": {},
   "outputs": [],
   "source": [
    "data[\"precio(mill)\"] = data[\"precio(millonespesos)\"]\n",
    "data.drop([\"precio(millonespesos)\"], inplace=True, axis=1)"
   ]
  },
  {
   "cell_type": "markdown",
   "metadata": {},
   "source": [
    "# Analisis exploratorio de datos"
   ]
  },
  {
   "cell_type": "markdown",
   "metadata": {},
   "source": [
    "Analisis de la correlación por tipo de propiedad"
   ]
  },
  {
   "cell_type": "code",
   "execution_count": null,
   "metadata": {},
   "outputs": [],
   "source": [
    "sns.heatmap(data.loc[data[\"Tipo\"]==\"Casa\"].corr(), cmap=\"YlGnBu\", annot=True, fmt=\".2f\")\n",
    "plt.title(\"Correlación Casas\")\n",
    "plt.show()"
   ]
  },
  {
   "cell_type": "code",
   "execution_count": null,
   "metadata": {},
   "outputs": [],
   "source": [
    "sns.heatmap(data.loc[data[\"Tipo\"]==\"Apartamento\"].corr(), cmap=\"YlGnBu\", annot=True, fmt=\".2f\")\n",
    "plt.title(\"Correlación Apartamentos\")\n",
    "plt.show()"
   ]
  },
  {
   "cell_type": "markdown",
   "metadata": {},
   "source": [
    "<font color=\"red\">Nota:</font> Muestra similitud en las variables, estrato, baños y habitaciones. Pero una fuerte diferencia entre area construida y condi"
   ]
  },
  {
   "cell_type": "code",
   "execution_count": null,
   "metadata": {},
   "outputs": [],
   "source": [
    "tipo_estrato_ind = data.pivot_table(\"precio(mill)\",\"Estrato\", \"Tipo\", \n",
    "                                    aggfunc={ max,\"mean\", min}).unstack().reset_index()"
   ]
  },
  {
   "cell_type": "code",
   "execution_count": null,
   "metadata": {},
   "outputs": [],
   "source": [
    "tipo_estrato_ind= tipo_estrato_ind.rename(columns={\"level_0\":\"Indicador\", 0:\"precio(mill)\"}, errors=\"raise\")"
   ]
  },
  {
   "cell_type": "code",
   "execution_count": null,
   "metadata": {},
   "outputs": [],
   "source": [
    "tipo_estrato_ind.head(1)"
   ]
  },
  {
   "cell_type": "code",
   "execution_count": null,
   "metadata": {},
   "outputs": [],
   "source": [
    "sns.relplot(data=tipo_estrato_ind,x=\"Estrato\", y=\"precio(mill)\", hue=\"Tipo\", \n",
    "            col=\"Indicador\", kind=\"line\",height=4, aspect=1,col_wrap=3 )\n",
    "plt.show()"
   ]
  },
  {
   "cell_type": "markdown",
   "metadata": {},
   "source": [
    "<font color=\"red\">Nota:</font> Se presenta una estandarización de las variables en el promedio y el minimo a lo largo de los estratos pero una fuerte variación en los maximos en las casas"
   ]
  },
  {
   "cell_type": "code",
   "execution_count": null,
   "metadata": {},
   "outputs": [],
   "source": [
    "sns.relplot(data=tipo_estrato_ind,x=\"Indicador\", y=\"precio(mill)\", hue=\"Tipo\", \n",
    "            col=\"Estrato\", kind=\"line\",height=3, aspect=1.5,col_wrap=3, \n",
    "            col_order=[1,2,3,4,5,6])\n",
    "plt.show()"
   ]
  },
  {
   "cell_type": "markdown",
   "metadata": {},
   "source": [
    "<font color=\"red\">Nota:</font> Los máximos estan muy alejados de la media en cada uno de los estratos"
   ]
  },
  {
   "cell_type": "code",
   "execution_count": null,
   "metadata": {},
   "outputs": [],
   "source": [
    "tipo_baño = data.pivot_table(\"precio(mill)\",\"Baños\", \"Tipo\",\n",
    "                             aggfunc={ max,\"mean\", min}).unstack().reset_index()"
   ]
  },
  {
   "cell_type": "code",
   "execution_count": null,
   "metadata": {},
   "outputs": [],
   "source": [
    "tipo_baño= tipo_baño.rename(columns={\"level_0\":\"Indicador\", 0:\"precio(mill)\"}, errors=\"raise\")"
   ]
  },
  {
   "cell_type": "code",
   "execution_count": null,
   "metadata": {},
   "outputs": [],
   "source": [
    "sns.relplot(data=tipo_baño,x=\"Baños\", y=\"precio(mill)\", hue=\"Tipo\", \n",
    "            col=\"Indicador\",height=3, aspect=1.5,col_wrap=3,kind=\"line\")\n",
    "plt.show()"
   ]
  },
  {
   "cell_type": "markdown",
   "metadata": {},
   "source": [
    "<font color=\"red\">Nota:</font> La grafica de minimos esta presentando valores atipicos en casas y apartamentos"
   ]
  },
  {
   "cell_type": "code",
   "execution_count": null,
   "metadata": {},
   "outputs": [],
   "source": [
    "tipo_area = data.pivot_table(\"precio(mill)\",\"Area_contruida\", \"Tipo\",\n",
    "                             aggfunc={ max,\"mean\", min}).unstack().reset_index()"
   ]
  },
  {
   "cell_type": "code",
   "execution_count": null,
   "metadata": {},
   "outputs": [],
   "source": [
    "tipo_area= tipo_area.rename(columns={\"level_0\":\"Indicador\", 0:\"precio(mill)\"}, errors=\"raise\")"
   ]
  },
  {
   "cell_type": "code",
   "execution_count": null,
   "metadata": {},
   "outputs": [],
   "source": [
    "tipo_area.dropna(axis=0, inplace=True)"
   ]
  },
  {
   "cell_type": "code",
   "execution_count": null,
   "metadata": {},
   "outputs": [],
   "source": [
    "sns.relplot(data=tipo_area,x=\"Area_contruida\", y=\"precio(mill)\", hue=\"Tipo\", \n",
    "            col=\"Indicador\",height=3, aspect=1.5,col_wrap=3)\n",
    "plt.show()"
   ]
  },
  {
   "cell_type": "markdown",
   "metadata": {},
   "source": [
    "<font color=\"red\">Nota:</font> Valor atipico no deja percibir la información más cercana"
   ]
  },
  {
   "cell_type": "code",
   "execution_count": null,
   "metadata": {},
   "outputs": [],
   "source": []
  }
 ],
 "metadata": {
  "kernelspec": {
   "display_name": "Python 3",
   "language": "python",
   "name": "python3"
  },
  "language_info": {
   "codemirror_mode": {
    "name": "ipython",
    "version": 3
   },
   "file_extension": ".py",
   "mimetype": "text/x-python",
   "name": "python",
   "nbconvert_exporter": "python",
   "pygments_lexer": "ipython3",
   "version": "3.8.3"
  }
 },
 "nbformat": 4,
 "nbformat_minor": 4
}
